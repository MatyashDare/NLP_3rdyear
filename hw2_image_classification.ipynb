{
 "cells": [
  {
   "cell_type": "markdown",
   "metadata": {
    "id": "JthFG34UKLwU"
   },
   "source": [
    "# ИАД-6\n",
    "## НИУ ВШЭ, 2020-2021 учебный год\n",
    "\n",
    "### Домашнее задание №2 Классификация, детекция.\n",
    "\n",
    "Задание выполнил(а): Дарья Матяш"
   ]
  },
  {
   "cell_type": "markdown",
   "metadata": {
    "id": "s8p76Ga_ZVbD"
   },
   "source": [
    "#Часть 1. Классификация\n",
    "В этом задании потребуется обучить классификатор изображений. Будем работать с датасетом, название которого раскрывать не будем. Можете посмотреть самостоятельно на картинки, которые в датасете есть. В нём 200 классов и около 5 тысяч картинок на каждый класс. Классы пронумерованы, как нетрудно догадаться, от 0 до 199. Скачать датасет можно вот [тут](https://yadi.sk/d/BNR41Vu3y0c7qA).\n",
    "\n",
    "Структура датасета простая -- есть директории train и val, в которых лежат обучающие и валидационные данные. В train/ и val/ лежат директориии, соответствующие классам изображений, в которых лежат собственно сами изображения.\n",
    " \n",
    "__Задание__. Добейтесь accuracy **не менее 0.44**. Напишите краткий отчёт о проделанных экспериментах. Что сработало и что не сработало? Почему вы решили, сделать так, а не иначе? Обязательно указывайте ссылки на чужой код, если вы его используете. Обязательно ссылайтесь на статьи/блогпосты/вопросы на stackoverflow/видосы от (индийских) ютуберов/курсы/подсказки от Дяди Васи и прочие дополнительные материалы, если вы их используете. \n",
    "\n",
    "В коде ниже необходимо, чтобы код проходил все `assert`'ы.\n",
    "\n",
    "Необходимо написать функцию `predict` по шаблону ниже. Эта функция принимает на вход модель, даталоадер с валидационнами данными, criterion для подсчёта лосса и device, на котором будут производиться вычисления (определён ниже) и возвращает список лоссов по всем объектам, список из предсказанных классов для каждого объекта из из даталоалера и список из настоящих классов для каждого объекта в даталоадере (и именно в таком порядке).\n",
    "\n",
    "__Использовать внешние данные для обучения строго запрещено__. Можно использовать предобученные модели из `torchvision`.\n",
    "\n",
    "__Критерии оценки__: Оценка вычисляется по простой формуле: min(5, 5 * Ваша accuracy / 0.44). Оценка округляется до десятых по арифметическим правилам.\n",
    "\n",
    "__Советы и указания__:\n",
    " - Наверняка вам потребуется много гуглить о классификации и о том, как заставить её работать. Это нормально, все гуглят. Но не забывайте, что нужно быть готовым за скатанный код отвечать на защите :)\n",
    " - Используйте аугментации. Для этого пользуйтесь модулем torchvision.transforms или библиотекой [albumentations](https://github.com/albumentations-team/albumentations)\n",
    " - (ещё раз) Можно файнтюнить предобученные модели из `torchvision`.\n",
    " - Рекомендуем написать вам сначала класс-датасет (или воспользоваться классом ImageFolder), который возвращает картинки и соответствующие им классы, а затем функции для трейна по шаблонам ниже. Однако делать это мы не заставляем. Если вам так неудобно, то можете писать код в удобном стиле. Однако учтите, что чрезмерное изменение нижеперечисленных шаблонов увеличит количество вопросов к вашему коду и повысит вероятность вызова на защиту :)\n",
    " - Валидируйте. Трекайте ошибки как можно раньше, чтобы не тратить время впустую.\n",
    " - Чтобы отладить код, пробуйте обучаться на маленькой части датасета. Когда вы поняли, что смогли всё отдебажить, переходите обучению по всему датасету\n",
    " - На каждый запуск делайте ровно одно изменение в модели/аугментации/оптимайзере, чтобы понять, что и как влияет на результат.\n",
    " - Фиксируйте random seed.\n",
    " - Начинайте с простых моделей и постепенно переходите к сложным. Обучение лёгких моделей экономит много времени.\n",
    " - Ставьте расписание на learning rate. Уменьшайте его, когда лосс на валидации перестаёт убывать.\n",
    " - Советуем использовать гпу. Если у вас его нет, используйте google colab. Если вам неудобно его использовать на постоянной основе, напишите и отладьте весь код локально на CPU, а затем запустите уже написанный ноутбук в колабе. Авторское решение задания достигает требуемой точности в колабе за 15 минут обучения.\n",
    " \n",
    "Good luck & have fun! :)"
   ]
  },
  {
   "cell_type": "code",
   "execution_count": null,
   "metadata": {
    "id": "KZnx0laOBE1f"
   },
   "outputs": [],
   "source": [
    "import torch\n",
    "from torch import nn\n",
    "import torch.nn.functional as F\n",
    "import numpy as np\n",
    "from tqdm import tqdm\n",
    "import sys\n",
    "import matplotlib.pyplot as plt\n",
    "import glob"
   ]
  },
  {
   "cell_type": "code",
   "execution_count": null,
   "metadata": {
    "colab": {
     "base_uri": "https://localhost:8080/"
    },
    "id": "-BeHCrwu-5eD",
    "outputId": "581f7716-5124-4af7-e838-5f912e94b4e9"
   },
   "outputs": [
    {
     "data": {
      "text/plain": [
       "True"
      ]
     },
     "execution_count": 58,
     "metadata": {
      "tags": []
     },
     "output_type": "execute_result"
    }
   ],
   "source": [
    "torch.cuda.is_available()"
   ]
  },
  {
   "cell_type": "code",
   "execution_count": null,
   "metadata": {
    "colab": {
     "base_uri": "https://localhost:8080/"
    },
    "id": "oUCyYB-1KARw",
    "outputId": "969af980-e3d2-4a5e-b80a-543129d96844"
   },
   "outputs": [
    {
     "name": "stdout",
     "output_type": "stream",
     "text": [
      "--2020-11-25 15:16:07--  https://getfile.dokpub.com/yandex/get/https://yadi.sk/d/8st61z1rzysuTg\n",
      "Resolving getfile.dokpub.com (getfile.dokpub.com)... 78.46.92.107\n",
      "Connecting to getfile.dokpub.com (getfile.dokpub.com)|78.46.92.107|:443... connected.\n",
      "HTTP request sent, awaiting response... 302 Moved Temporarily\n",
      "Location: https://downloader.disk.yandex.ru/disk/ae287179ed1f6362d7fceb87b14c4bd3129b58251c03ecfc757971e4301b2404/5fbea1a7/9ku0RfoqgvhHN2N0OIFZzwFzIpxzFy3Ft7lcfhpvA-MYbw_t_YEo4iyIlXcEv1O9aaW25jUaiufBSppwkoDdTg%3D%3D?uid=0&filename=dataset_2.zip&disposition=attachment&hash=ug7zBL/wR9CIVfYIXuiBmygTGwzITjRbhveIdfcTa1Aj46BI59AtZ7nziVp2Aq1Pq/J6bpmRyOJonT3VoXnDag%3D%3D%3A&limit=0&content_type=application%2Fzip&owner_uid=179646945&fsize=269617549&hid=4c3b0ea0738eff97155fb82f70216640&media_type=compressed&tknv=v2 [following]\n",
      "--2020-11-25 15:16:07--  https://downloader.disk.yandex.ru/disk/ae287179ed1f6362d7fceb87b14c4bd3129b58251c03ecfc757971e4301b2404/5fbea1a7/9ku0RfoqgvhHN2N0OIFZzwFzIpxzFy3Ft7lcfhpvA-MYbw_t_YEo4iyIlXcEv1O9aaW25jUaiufBSppwkoDdTg%3D%3D?uid=0&filename=dataset_2.zip&disposition=attachment&hash=ug7zBL/wR9CIVfYIXuiBmygTGwzITjRbhveIdfcTa1Aj46BI59AtZ7nziVp2Aq1Pq/J6bpmRyOJonT3VoXnDag%3D%3D%3A&limit=0&content_type=application%2Fzip&owner_uid=179646945&fsize=269617549&hid=4c3b0ea0738eff97155fb82f70216640&media_type=compressed&tknv=v2\n",
      "Resolving downloader.disk.yandex.ru (downloader.disk.yandex.ru)... 77.88.21.127, 2a02:6b8::2:127\n",
      "Connecting to downloader.disk.yandex.ru (downloader.disk.yandex.ru)|77.88.21.127|:443... connected.\n",
      "HTTP request sent, awaiting response... 302 Found\n",
      "Location: https://s102vla.storage.yandex.net/rdisk/ae287179ed1f6362d7fceb87b14c4bd3129b58251c03ecfc757971e4301b2404/5fbea1a7/9ku0RfoqgvhHN2N0OIFZzwFzIpxzFy3Ft7lcfhpvA-MYbw_t_YEo4iyIlXcEv1O9aaW25jUaiufBSppwkoDdTg==?uid=0&filename=dataset_2.zip&disposition=attachment&hash=ug7zBL/wR9CIVfYIXuiBmygTGwzITjRbhveIdfcTa1Aj46BI59AtZ7nziVp2Aq1Pq/J6bpmRyOJonT3VoXnDag%3D%3D%3A&limit=0&content_type=application%2Fzip&owner_uid=179646945&fsize=269617549&hid=4c3b0ea0738eff97155fb82f70216640&media_type=compressed&tknv=v2&rtoken=i1Qak1xdC0qg&force_default=no&ycrid=na-09a63916630b0662d1d55a484f7c018c-downloader24h&ts=5b4f28e1e77c0&s=c250d28bbc991c425e51119d4ce3bc57a2331bbfacae46810157520f29855aa5&pb=U2FsdGVkX1_P6bu3f77I2W6O4z1S6YVpxGLOX-kDpNJmRDeKNgfyHBL1OvAit7ZV2oJV2rE0zUHDzJfiepQMfaTFdHpmaTz9HTUk0gRhrhQ [following]\n",
      "--2020-11-25 15:16:08--  https://s102vla.storage.yandex.net/rdisk/ae287179ed1f6362d7fceb87b14c4bd3129b58251c03ecfc757971e4301b2404/5fbea1a7/9ku0RfoqgvhHN2N0OIFZzwFzIpxzFy3Ft7lcfhpvA-MYbw_t_YEo4iyIlXcEv1O9aaW25jUaiufBSppwkoDdTg==?uid=0&filename=dataset_2.zip&disposition=attachment&hash=ug7zBL/wR9CIVfYIXuiBmygTGwzITjRbhveIdfcTa1Aj46BI59AtZ7nziVp2Aq1Pq/J6bpmRyOJonT3VoXnDag%3D%3D%3A&limit=0&content_type=application%2Fzip&owner_uid=179646945&fsize=269617549&hid=4c3b0ea0738eff97155fb82f70216640&media_type=compressed&tknv=v2&rtoken=i1Qak1xdC0qg&force_default=no&ycrid=na-09a63916630b0662d1d55a484f7c018c-downloader24h&ts=5b4f28e1e77c0&s=c250d28bbc991c425e51119d4ce3bc57a2331bbfacae46810157520f29855aa5&pb=U2FsdGVkX1_P6bu3f77I2W6O4z1S6YVpxGLOX-kDpNJmRDeKNgfyHBL1OvAit7ZV2oJV2rE0zUHDzJfiepQMfaTFdHpmaTz9HTUk0gRhrhQ\n",
      "Resolving s102vla.storage.yandex.net (s102vla.storage.yandex.net)... 93.158.162.231, 2a02:6b8:c0e:181:0:41af:628d:c35\n",
      "Connecting to s102vla.storage.yandex.net (s102vla.storage.yandex.net)|93.158.162.231|:443... connected.\n",
      "HTTP request sent, awaiting response... 200 OK\n",
      "Length: 269617549 (257M) [application/zip]\n",
      "Saving to: ‘dataset.zip’\n",
      "\n",
      "dataset.zip         100%[===================>] 257.13M  23.9MB/s    in 12s     \n",
      "\n",
      "2020-11-25 15:16:21 (21.8 MB/s) - ‘dataset.zip’ saved [269617549/269617549]\n",
      "\n"
     ]
    }
   ],
   "source": [
    "! wget -O dataset.zip https://getfile.dokpub.com/yandex/get/https://yadi.sk/d/8st61z1rzysuTg && unzip dataset.zip > /dev/null\n"
   ]
  },
  {
   "cell_type": "code",
   "execution_count": null,
   "metadata": {
    "id": "twNYMCPu0VqR"
   },
   "outputs": [],
   "source": [
    "from torchvision.datasets import ImageFolder\n",
    "from torchvision.transforms import Resize, Normalize, ToTensor, Compose\n",
    "\n",
    "train_set = ImageFolder(\"/content/dataset_2/dataset/train\", transform=Compose([Resize((224, 224)), ToTensor(), Normalize((0.5, 0.5, 0.5), (1, 1, 1))]))\n",
    "test_set = ImageFolder(\"/content/dataset_2/dataset/val\", transform=Compose([Resize((224, 224)), ToTensor(), Normalize((0.5, 0.5, 0.5), (1, 1, 1))]))"
   ]
  },
  {
   "cell_type": "code",
   "execution_count": null,
   "metadata": {
    "colab": {
     "base_uri": "https://localhost:8080/"
    },
    "id": "gOnNf6Do2iSp",
    "outputId": "720f9883-ca83-442f-f7ea-a596b1dc940a"
   },
   "outputs": [
    {
     "name": "stdout",
     "output_type": "stream",
     "text": [
      "tests passed\n"
     ]
    }
   ],
   "source": [
    "# Just very simple checks\n",
    "assert isinstance(train_set[0], tuple)\n",
    "assert len(train_set[0]) == 2\n",
    "assert isinstance(train_set[1][1], int)\n",
    "print(\"tests passed\")"
   ]
  },
  {
   "cell_type": "code",
   "execution_count": null,
   "metadata": {
    "id": "RMqtldsPA5GM"
   },
   "outputs": [],
   "source": [
    "train_dataloader = torch.utils.data.DataLoader(train_set, batch_size=256, shuffle=True)\n",
    "val_dataloader = torch.utils.data.DataLoader(test_set, batch_size=256, shuffle=True)"
   ]
  },
  {
   "cell_type": "code",
   "execution_count": null,
   "metadata": {
    "colab": {
     "base_uri": "https://localhost:8080/",
     "height": 286
    },
    "id": "Z2423VxTA5K_",
    "outputId": "c71ba8e6-1e40-4049-96ee-063c89c6c761"
   },
   "outputs": [
    {
     "data": {
      "text/plain": [
       "<matplotlib.image.AxesImage at 0x7f06910f35c0>"
      ]
     },
     "execution_count": 7,
     "metadata": {
      "tags": []
     },
     "output_type": "execute_result"
    },
    {
     "data": {
      "image/png": "[encoded data removed]",
      "text/plain": [
       "<Figure size 432x288 with 1 Axes>"
      ]
     },
     "metadata": {
      "needs_background": "light",
      "tags": []
     },
     "output_type": "display_data"
    }
   ],
   "source": [
    "file = np.random.choice(glob.glob(\"./dataset_2/dataset/train/*/*.jpg\"))\n",
    "plt.imshow(plt.imread(file))"
   ]
  },
  {
   "cell_type": "code",
   "execution_count": null,
   "metadata": {
    "colab": {
     "base_uri": "https://localhost:8080/",
     "height": 105,
     "referenced_widgets": [
      "cf6df82cb6984595bfe4ca137b4e38f4",
      "ceae87b08ab048e79b76e0747ac756ad",
      "d2066d082b8e4a3a8ae9dfdc1aa34aa9",
      "2b943b9684104c2a99a89a2927e9b598",
      "d45596fd0c574bca9d6b30d22bb49b03",
      "61185c43ccdc44a291bb0722d4ed5722",
      "140339604a6d4adfa54353ed742fa77c",
      "4d89b174b7564a4f9f37c6f5f2349fe9"
     ]
    },
    "id": "a4xkJFepBCGi",
    "outputId": "817d093b-d274-45aa-90f2-798bc8ef291a"
   },
   "outputs": [
    {
     "name": "stderr",
     "output_type": "stream",
     "text": [
      "Downloading: \"https://download.pytorch.org/models/resnet18-5c106cde.pth\" to /root/.cache/torch/hub/checkpoints/resnet18-5c106cde.pth\n"
     ]
    },
    {
     "data": {
      "application/vnd.jupyter.widget-view+json": {
       "model_id": "cf6df82cb6984595bfe4ca137b4e38f4",
       "version_major": 2,
       "version_minor": 0
      },
      "text/plain": [
       "HBox(children=(FloatProgress(value=0.0, max=46827520.0), HTML(value='')))"
      ]
     },
     "metadata": {
      "tags": []
     },
     "output_type": "display_data"
    },
    {
     "name": "stdout",
     "output_type": "stream",
     "text": [
      "\n"
     ]
    }
   ],
   "source": [
    "from torchvision.models import resnet18\n",
    "\n",
    "# Загрузить предобученную сеть -- pretrained=True\n",
    "model = resnet18(pretrained=True).to('cuda')"
   ]
  },
  {
   "cell_type": "code",
   "execution_count": null,
   "metadata": {
    "id": "qfA7SxQFEGUP"
   },
   "outputs": [],
   "source": [
    "for param in model.parameters():\n",
    "    param.requires_grad = False"
   ]
  },
  {
   "cell_type": "code",
   "execution_count": null,
   "metadata": {
    "id": "1DyajbWWEGZ0"
   },
   "outputs": [],
   "source": [
    "model.fc = nn.Linear(512, 200).to('cuda')"
   ]
  },
  {
   "cell_type": "code",
   "execution_count": null,
   "metadata": {
    "id": "5Mrzz7qRY7o6"
   },
   "outputs": [],
   "source": [
    "from tqdm import tqdm\n",
    "import sys\n",
    "import matplotlib.pyplot as plt\n",
    "import glob\n",
    "from sklearn.metrics import accuracy_score\n",
    "\n",
    "def train_epoch(epoch,model, data_loader, criterion, optimizer, device=\"cuda:0\"):\n",
    "    model.train()\n",
    "    model = model.to(device).train()\n",
    "    total_loss = 0\n",
    "    num_batches = 0\n",
    "    all_losses = []\n",
    "    total_predictions = np.array([])#.reshape((0, ))\n",
    "    total_labels = np.array([])#.reshape((0, ))\n",
    "    with tqdm(total=len(data_loader), file=sys.stdout) as prbar:\n",
    "      for i, batch in enumerate(data_loader):\n",
    "        images, labels = batch[0], batch[1]\n",
    "        # for images, labels in data_loader:\n",
    "              # Move Batch to GPU\n",
    "        images = images.to(device)\n",
    "        labels = labels.to(device)\n",
    "        predicted = model(images)\n",
    "        loss = criterion(predicted, labels)\n",
    "              # Update weights\n",
    "        loss.backward()\n",
    "        optimizer.step()\n",
    "        optimizer.zero_grad()\n",
    "              # Update descirption for tqdm\n",
    "        accuracy = (predicted.argmax(1) == labels).float().mean()\n",
    "        prbar.set_description(\n",
    "                  f\"Loss: {round(loss.item(), 4)} \"\n",
    "                  f\"Accuracy: {round(accuracy.item() * 100, 4)}\"\n",
    "              )\n",
    "        prbar.update(1)\n",
    "        total_loss += loss.item()\n",
    "        total_predictions = np.append(total_predictions, predicted.argmax(1).cpu().detach().numpy())\n",
    "        total_labels = np.append(total_labels, labels.cpu().detach().numpy())\n",
    "        num_batches += 1\n",
    "        all_losses.append(loss.detach().item())\n",
    "    metrics = {'loss': total_loss / num_batches}\n",
    "    metrics.update({\"accuracy\": (total_predictions == total_labels).mean()})\n",
    "    PATH = './model_epoch{}'.format(epoch)\n",
    "    torch.save(model.state_dict(), PATH)\n",
    "    return_losses = True\n",
    "    if return_losses:\n",
    "        return metrics, all_losses\n",
    "    else:\n",
    "        return metrics\n",
    "    \n",
    "\n",
    "def predict(model, data_loader, criterion, device=\"cuda:0\"):\n",
    "    model.eval()\n",
    "    losses = np.zeros(len(data_loader))\n",
    "    # predict val_dataloader and print and return the validation accuracy\n",
    "    total_loss = 0\n",
    "    num_batches = 0\n",
    "    total_predictions = np.array([])\n",
    "    total_labels = np.array([])\n",
    "    with tqdm(total=len(data_loader), file=sys.stdout) as prbar:\n",
    "      for i, batch in enumerate(data_loader):\n",
    "        images, labels = batch[0], batch[1]\n",
    "        images = images.to(device)\n",
    "        labels = labels.to(device)\n",
    "        predicted = model(images)\n",
    "        loss = criterion(predicted, labels)\n",
    "        accuracy = (predicted.argmax(1) == labels).float().mean()\n",
    "        prbar.set_description(\n",
    "                f\"Loss: {round(loss.item(), 4)} \"\n",
    "                f\"Accuracy: {round(accuracy.item() * 100, 4)}\"\n",
    "            )\n",
    "        prbar.update(1)\n",
    "        total_loss += loss.item()\n",
    "        total_predictions = np.append(total_predictions, predicted.argmax(1).cpu().detach().numpy())\n",
    "        total_labels = np.append(total_labels, labels.cpu().detach().numpy())\n",
    "        losses[i] = loss\n",
    "        num_batches += 1\n",
    "#     metrics = {'loss': total_loss / num_batches}\n",
    "#     metrics.update({\"accuracy\": (total_predictions == total_labels).mean()})\n",
    "    \n",
    "    return losses, total_predictions, total_labels\n",
    "\n",
    "\n",
    "def validate(model, data_loader, criterion, device='cuda:0'):\n",
    "    model = model.eval()\n",
    "    total_loss = 0\n",
    "    num_batches = 0\n",
    "    total_predictions = np.array([])\n",
    "    total_labels = np.array([])\n",
    "    with tqdm(total=len(data_loader), file=sys.stdout) as prbar:\n",
    "        for images, labels in data_loader:\n",
    "            images = images.to(device)\n",
    "            labels = labels.to(device)\n",
    "            predicted = model(images)\n",
    "            loss = criterion(predicted, labels)\n",
    "            accuracy = (predicted.argmax(1) == labels).float().mean()\n",
    "            prbar.set_description(\n",
    "                f\"Loss: {round(loss.item(), 4)} \"\n",
    "                f\"Accuracy: {round(accuracy.item() * 100, 4)}\"\n",
    "            )\n",
    "            prbar.update(1)\n",
    "            total_loss += loss.item()\n",
    "            total_predictions = np.append(total_predictions, predicted.argmax(1).cpu().detach().numpy())\n",
    "            total_labels = np.append(total_labels, labels.cpu().detach().numpy())\n",
    "            num_batches += 1\n",
    "    metrics = {'loss': total_loss / num_batches}\n",
    "    metrics.update({\"accuracy\": (total_predictions == total_labels).mean()})\n",
    "    return metrics\n",
    "\n",
    "\n",
    "def train(model, train_dataloader, val_dataloader, criterion, optimizer, device=\"cuda:0\", n_epochs=10, scheduler=None):\n",
    "    model.to(device)\n",
    "        # Train, evaluate, print accuracy, make a step of scheduler or whatever you want...\n",
    "    all_train_losses = []\n",
    "    epoch_eval_accuracy = []\n",
    "    epoch_train_losses = []\n",
    "    epoch_eval_losses = []\n",
    "    for epoch in range(n_epochs):\n",
    "        # Train step\n",
    "        print(f\"Train Epoch: {epoch}\")\n",
    "        train_metrics, one_epoch_train_losses = train_epoch(epoch,\n",
    "            model=model,\n",
    "            data_loader=train_dataloader,\n",
    "            optimizer=optimizer,\n",
    "            \n",
    "            criterion=criterion)\n",
    "        # Save Train losses\n",
    "        all_train_losses.extend(one_epoch_train_losses)\n",
    "        epoch_train_losses.append(train_metrics['loss'])\n",
    "        # Eval step\n",
    "        print(f\"Validation Epoch: {epoch}\")\n",
    "        with torch.no_grad():\n",
    "            validation_metrics = validate(\n",
    "                model=model,\n",
    "                data_loader=val_dataloader,\n",
    "                criterion=criterion\n",
    "            )\n",
    "        # Save eval losses\n",
    "        epoch_eval_losses.append(validation_metrics['loss'])\n",
    "        epoch_eval_accuracy.append(validation_metrics['accuracy'])\n"
   ]
  },
  {
   "cell_type": "code",
   "execution_count": null,
   "metadata": {
    "id": "qBlPonYvcwc4"
   },
   "outputs": [],
   "source": [
    "# model = # THE MODEL THAT YOU CHOOSE - загрузила резнет до этого\n",
    "criterion = nn.CrossEntropyLoss()\n",
    "optimizer = torch.optim.Adam(model.fc.parameters(), 1e-4)\n",
    "\n",
    "n_epochs = 10\n",
    "device = torch.device(\"cuda:0\") if torch.cuda.is_available() else torch.device(\"cpu\")"
   ]
  },
  {
   "cell_type": "markdown",
   "metadata": {
    "id": "msxNp1a1YinA"
   },
   "source": [
    "Сейчас поставим все обучаться) Я сохраняю веса на каждой эпохе, чтобы потом загрузить лучшую модель (если вдруг коллаб вылетит) и не терять время."
   ]
  },
  {
   "cell_type": "code",
   "execution_count": null,
   "metadata": {
    "colab": {
     "base_uri": "https://localhost:8080/"
    },
    "id": "g9e7lezrc1yX",
    "outputId": "6c4ccf99-dae9-4289-f889-30565fa4b62b"
   },
   "outputs": [
    {
     "name": "stdout",
     "output_type": "stream",
     "text": [
      "Train Epoch: 0\n",
      "Loss: 4.1691 Accuracy: 23.75: 100%|██████████| 391/391 [04:50<00:00,  1.34it/s]\n",
      "Validation Epoch: 0\n",
      "Loss: 3.9875 Accuracy: 37.5: 100%|██████████| 40/40 [00:28<00:00,  1.42it/s]\n",
      "Train Epoch: 1\n",
      "Loss: 3.3279 Accuracy: 46.875: 100%|██████████| 391/391 [04:43<00:00,  1.38it/s]\n",
      "Validation Epoch: 1\n",
      "Loss: 3.3572 Accuracy: 31.25: 100%|██████████| 40/40 [00:27<00:00,  1.44it/s]\n",
      "Train Epoch: 2\n",
      "Loss: 3.0712 Accuracy: 43.125: 100%|██████████| 391/391 [04:43<00:00,  1.38it/s]\n",
      "Validation Epoch: 2\n",
      "Loss: 2.5369 Accuracy: 68.75: 100%|██████████| 40/40 [00:27<00:00,  1.43it/s]\n",
      "Train Epoch: 3\n",
      "Loss: 2.2625 Accuracy: 61.25: 100%|██████████| 391/391 [04:41<00:00,  1.39it/s]\n",
      "Validation Epoch: 3\n",
      "Loss: 2.302 Accuracy: 50.0: 100%|██████████| 40/40 [00:27<00:00,  1.44it/s]\n",
      "Train Epoch: 4\n",
      "Loss: 2.1746 Accuracy: 60.0: 100%|██████████| 391/391 [04:41<00:00,  1.39it/s]\n",
      "Validation Epoch: 4\n",
      "Loss: 2.5922 Accuracy: 43.75: 100%|██████████| 40/40 [00:27<00:00,  1.45it/s]\n",
      "Train Epoch: 5\n",
      "Loss: 2.0926 Accuracy: 56.25: 100%|██████████| 391/391 [04:40<00:00,  1.39it/s]\n",
      "Validation Epoch: 5\n",
      "Loss: 2.391 Accuracy: 62.5: 100%|██████████| 40/40 [00:27<00:00,  1.44it/s]\n",
      "Train Epoch: 6\n",
      "Loss: 2.1206 Accuracy: 51.875: 100%|██████████| 391/391 [04:43<00:00,  1.38it/s]\n",
      "Validation Epoch: 6\n",
      "Loss: 2.2134 Accuracy: 50.0: 100%|██████████| 40/40 [00:27<00:00,  1.43it/s]\n",
      "Train Epoch: 7\n",
      "Loss: 2.1136 Accuracy: 53.75: 100%|██████████| 391/391 [04:49<00:00,  1.35it/s]\n",
      "Validation Epoch: 7\n",
      "Loss: 2.3052 Accuracy: 56.25: 100%|██████████| 40/40 [00:29<00:00,  1.36it/s]\n",
      "Train Epoch: 8\n",
      "Loss: 1.9413 Accuracy: 56.25: 100%|██████████| 391/391 [05:01<00:00,  1.30it/s]\n",
      "Validation Epoch: 8\n",
      "Loss: 1.7306 Accuracy: 50.0: 100%|██████████| 40/40 [00:29<00:00,  1.34it/s]\n",
      "Train Epoch: 9\n",
      "Loss: 1.7079 Accuracy: 64.375: 100%|██████████| 391/391 [05:03<00:00,  1.29it/s]\n",
      "Validation Epoch: 9\n",
      "Loss: 1.76 Accuracy: 56.25: 100%|██████████| 40/40 [00:29<00:00,  1.34it/s]\n"
     ]
    }
   ],
   "source": [
    "torch.manual_seed(42)\n",
    "train(model, train_dataloader, val_dataloader, criterion, optimizer, device, n_epochs)"
   ]
  },
  {
   "cell_type": "code",
   "execution_count": null,
   "metadata": {
    "id": "zoWejPejcwla"
   },
   "outputs": [],
   "source": [
    "def evaluate(model, data_loader, criterion, device='cuda:0'):\n",
    "    model = model.eval()\n",
    "    total_loss = 0\n",
    "    num_batches = 0\n",
    "    total_predictions = np.array([])\n",
    "    total_labels = np.array([])\n",
    "    with tqdm(total=len(data_loader), file=sys.stdout) as prbar:\n",
    "      for i, batch in enumerate(data_loader):\n",
    "        images, labels = batch[0], batch[1]\n",
    "        images = images.to(device)\n",
    "        labels = labels.to(device)\n",
    "        predicted = model(images)\n",
    "        loss = criterion(predicted, labels)\n",
    "        accuracy = (predicted.argmax(1) == labels).float().mean()\n",
    "        prbar.set_description(\n",
    "                f\"Loss: {round(loss.item(), 4)} \"\n",
    "                f\"Accuracy: {round(accuracy.item() * 100, 4)}\"\n",
    "            )\n",
    "        prbar.update(1)\n",
    "        total_loss += loss.item()\n",
    "        total_predictions = np.append(total_predictions, predicted.argmax(1).cpu().detach().numpy())\n",
    "        total_labels = np.append(total_labels, labels.cpu().detach().numpy())\n",
    "        num_batches += 1\n",
    "    metrics = {'loss': total_loss / num_batches}\n",
    "    metrics.update({\"accuracy\": (total_predictions == total_labels).mean()})\n",
    "    return metrics"
   ]
  },
  {
   "cell_type": "markdown",
   "metadata": {
    "id": "PkeQU7LDXFab"
   },
   "source": [
    "Я загрузила модель epoch2 и для нее считаю accuracy все такое (в том числе и свою оценочку за это задание) "
   ]
  },
  {
   "cell_type": "code",
   "execution_count": null,
   "metadata": {
    "colab": {
     "base_uri": "https://localhost:8080/"
    },
    "id": "dkkxlZnCc-05",
    "outputId": "f0af7a82-b7a8-40a8-c808-ec873ab7379c"
   },
   "outputs": [
    {
     "name": "stdout",
     "output_type": "stream",
     "text": [
      "Loss: 1.579 Accuracy: 68.75: 100%|██████████| 40/40 [00:29<00:00,  1.35it/s]\n"
     ]
    }
   ],
   "source": [
    "test_dataloader = torch.utils.data.DataLoader(test_set, batch_size=256, shuffle=True)\n",
    "# model = resnet18(pretrained=True).to('cuda')\n",
    "# model.fc = nn.Linear(512, 200).to('cuda')\n",
    "# model.load_state_dict(torch.load('/content/model_epoch9'))\n",
    "# model.eval() \n",
    "#  я открывала сравнить качество модели на эпохе 2 и последней эпохе, для ответа, понятно, выводила результаты, полученные, на последней эпохе\n",
    "\n",
    "all_losses, predicted_labels, true_labels = predict(model, test_dataloader, criterion, device)\n"
   ]
  },
  {
   "cell_type": "code",
   "execution_count": null,
   "metadata": {
    "colab": {
     "base_uri": "https://localhost:8080/"
    },
    "id": "IEfhL6PVc-3g",
    "outputId": "16428a21-0fb4-446c-b72b-3cd3125e6378"
   },
   "outputs": [
    {
     "name": "stdout",
     "output_type": "stream",
     "text": [
      "Оценка за это задание составит 5 баллов\n"
     ]
    }
   ],
   "source": [
    "assert len(predicted_labels) == len(test_set)\n",
    "accuracy = accuracy_score(true_labels, predicted_labels)\n",
    "print(\"Оценка за это задание составит {} баллов\".format(min(5, 5*accuracy / 0.44)))"
   ]
  },
  {
   "cell_type": "code",
   "execution_count": null,
   "metadata": {
    "colab": {
     "base_uri": "https://localhost:8080/"
    },
    "id": "77qpNgy7Ol8w",
    "outputId": "8d969f7a-1571-47d4-9525-b7af4a6f8350"
   },
   "outputs": [
    {
     "data": {
      "text/plain": [
       "0.5656"
      ]
     },
     "execution_count": 23,
     "metadata": {
      "tags": []
     },
     "output_type": "execute_result"
    }
   ],
   "source": [
    "accuracy"
   ]
  },
  {
   "cell_type": "markdown",
   "metadata": {
    "id": "FCdUpa8gZozp"
   },
   "source": [
    "__Мой отчёт о проделанных экспериментах__:\n",
    "+ не очень умная идея была не использовать fine-tuning, а написать все \"с нуля\" на ResNet - accracy была значительно ниже полученной при fine-tuning'е, к тому же на transfer learning'e нейросеть сошлась значительно быстрее, чем инициализированная с нуля.\n",
    "+ очень помогла аугментация - ресайз и общая нормализация картинок дали лучше качество, чем без этого, для бонусного задания, понятно дело, еще больше всего нужно \"навертеть\", но для базового задания с accuracy > 0.44 на тестовом датасете тоже ок)"
   ]
  }
 ],
 "metadata": {
  "accelerator": "GPU",
  "colab": {
   "collapsed_sections": [],
   "name": "Untitled2_(3) (1).ipynb",
   "provenance": [],
   "toc_visible": true
  },
  "kernelspec": {
   "display_name": "Python 3",
   "language": "python",
   "name": "python3"
  },
  "language_info": {
   "codemirror_mode": {
    "name": "ipython",
    "version": 3
   },
   "file_extension": ".py",
   "mimetype": "text/x-python",
   "name": "python",
   "nbconvert_exporter": "python",
   "pygments_lexer": "ipython3",
   "version": "3.7.6"
  },
  "widgets": {
   "application/vnd.jupyter.widget-state+json": {
    "140339604a6d4adfa54353ed742fa77c": {
     "model_module": "@jupyter-widgets/controls",
     "model_name": "DescriptionStyleModel",
     "state": {
      "_model_module": "@jupyter-widgets/controls",
      "_model_module_version": "1.5.0",
      "_model_name": "DescriptionStyleModel",
      "_view_count": null,
      "_view_module": "@jupyter-widgets/base",
      "_view_module_version": "1.2.0",
      "_view_name": "StyleView",
      "description_width": ""
     }
    },
    "2b943b9684104c2a99a89a2927e9b598": {
     "model_module": "@jupyter-widgets/controls",
     "model_name": "HTMLModel",
     "state": {
      "_dom_classes": [],
      "_model_module": "@jupyter-widgets/controls",
      "_model_module_version": "1.5.0",
      "_model_name": "HTMLModel",
      "_view_count": null,
      "_view_module": "@jupyter-widgets/controls",
      "_view_module_version": "1.5.0",
      "_view_name": "HTMLView",
      "description": "",
      "description_tooltip": null,
      "layout": "IPY_MODEL_4d89b174b7564a4f9f37c6f5f2349fe9",
      "placeholder": "​",
      "style": "IPY_MODEL_140339604a6d4adfa54353ed742fa77c",
      "value": " 44.7M/44.7M [00:34&lt;00:00, 1.37MB/s]"
     }
    },
    "4d89b174b7564a4f9f37c6f5f2349fe9": {
     "model_module": "@jupyter-widgets/base",
     "model_name": "LayoutModel",
     "state": {
      "_model_module": "@jupyter-widgets/base",
      "_model_module_version": "1.2.0",
      "_model_name": "LayoutModel",
      "_view_count": null,
      "_view_module": "@jupyter-widgets/base",
      "_view_module_version": "1.2.0",
      "_view_name": "LayoutView",
      "align_content": null,
      "align_items": null,
      "align_self": null,
      "border": null,
      "bottom": null,
      "display": null,
      "flex": null,
      "flex_flow": null,
      "grid_area": null,
      "grid_auto_columns": null,
      "grid_auto_flow": null,
      "grid_auto_rows": null,
      "grid_column": null,
      "grid_gap": null,
      "grid_row": null,
      "grid_template_areas": null,
      "grid_template_columns": null,
      "grid_template_rows": null,
      "height": null,
      "justify_content": null,
      "justify_items": null,
      "left": null,
      "margin": null,
      "max_height": null,
      "max_width": null,
      "min_height": null,
      "min_width": null,
      "object_fit": null,
      "object_position": null,
      "order": null,
      "overflow": null,
      "overflow_x": null,
      "overflow_y": null,
      "padding": null,
      "right": null,
      "top": null,
      "visibility": null,
      "width": null
     }
    },
    "61185c43ccdc44a291bb0722d4ed5722": {
     "model_module": "@jupyter-widgets/base",
     "model_name": "LayoutModel",
     "state": {
      "_model_module": "@jupyter-widgets/base",
      "_model_module_version": "1.2.0",
      "_model_name": "LayoutModel",
      "_view_count": null,
      "_view_module": "@jupyter-widgets/base",
      "_view_module_version": "1.2.0",
      "_view_name": "LayoutView",
      "align_content": null,
      "align_items": null,
      "align_self": null,
      "border": null,
      "bottom": null,
      "display": null,
      "flex": null,
      "flex_flow": null,
      "grid_area": null,
      "grid_auto_columns": null,
      "grid_auto_flow": null,
      "grid_auto_rows": null,
      "grid_column": null,
      "grid_gap": null,
      "grid_row": null,
      "grid_template_areas": null,
      "grid_template_columns": null,
      "grid_template_rows": null,
      "height": null,
      "justify_content": null,
      "justify_items": null,
      "left": null,
      "margin": null,
      "max_height": null,
      "max_width": null,
      "min_height": null,
      "min_width": null,
      "object_fit": null,
      "object_position": null,
      "order": null,
      "overflow": null,
      "overflow_x": null,
      "overflow_y": null,
      "padding": null,
      "right": null,
      "top": null,
      "visibility": null,
      "width": null
     }
    },
    "ceae87b08ab048e79b76e0747ac756ad": {
     "model_module": "@jupyter-widgets/base",
     "model_name": "LayoutModel",
     "state": {
      "_model_module": "@jupyter-widgets/base",
      "_model_module_version": "1.2.0",
      "_model_name": "LayoutModel",
      "_view_count": null,
      "_view_module": "@jupyter-widgets/base",
      "_view_module_version": "1.2.0",
      "_view_name": "LayoutView",
      "align_content": null,
      "align_items": null,
      "align_self": null,
      "border": null,
      "bottom": null,
      "display": null,
      "flex": null,
      "flex_flow": null,
      "grid_area": null,
      "grid_auto_columns": null,
      "grid_auto_flow": null,
      "grid_auto_rows": null,
      "grid_column": null,
      "grid_gap": null,
      "grid_row": null,
      "grid_template_areas": null,
      "grid_template_columns": null,
      "grid_template_rows": null,
      "height": null,
      "justify_content": null,
      "justify_items": null,
      "left": null,
      "margin": null,
      "max_height": null,
      "max_width": null,
      "min_height": null,
      "min_width": null,
      "object_fit": null,
      "object_position": null,
      "order": null,
      "overflow": null,
      "overflow_x": null,
      "overflow_y": null,
      "padding": null,
      "right": null,
      "top": null,
      "visibility": null,
      "width": null
     }
    },
    "cf6df82cb6984595bfe4ca137b4e38f4": {
     "model_module": "@jupyter-widgets/controls",
     "model_name": "HBoxModel",
     "state": {
      "_dom_classes": [],
      "_model_module": "@jupyter-widgets/controls",
      "_model_module_version": "1.5.0",
      "_model_name": "HBoxModel",
      "_view_count": null,
      "_view_module": "@jupyter-widgets/controls",
      "_view_module_version": "1.5.0",
      "_view_name": "HBoxView",
      "box_style": "",
      "children": [
       "IPY_MODEL_d2066d082b8e4a3a8ae9dfdc1aa34aa9",
       "IPY_MODEL_2b943b9684104c2a99a89a2927e9b598"
      ],
      "layout": "IPY_MODEL_ceae87b08ab048e79b76e0747ac756ad"
     }
    },
    "d2066d082b8e4a3a8ae9dfdc1aa34aa9": {
     "model_module": "@jupyter-widgets/controls",
     "model_name": "FloatProgressModel",
     "state": {
      "_dom_classes": [],
      "_model_module": "@jupyter-widgets/controls",
      "_model_module_version": "1.5.0",
      "_model_name": "FloatProgressModel",
      "_view_count": null,
      "_view_module": "@jupyter-widgets/controls",
      "_view_module_version": "1.5.0",
      "_view_name": "ProgressView",
      "bar_style": "success",
      "description": "100%",
      "description_tooltip": null,
      "layout": "IPY_MODEL_61185c43ccdc44a291bb0722d4ed5722",
      "max": 46827520,
      "min": 0,
      "orientation": "horizontal",
      "style": "IPY_MODEL_d45596fd0c574bca9d6b30d22bb49b03",
      "value": 46827520
     }
    },
    "d45596fd0c574bca9d6b30d22bb49b03": {
     "model_module": "@jupyter-widgets/controls",
     "model_name": "ProgressStyleModel",
     "state": {
      "_model_module": "@jupyter-widgets/controls",
      "_model_module_version": "1.5.0",
      "_model_name": "ProgressStyleModel",
      "_view_count": null,
      "_view_module": "@jupyter-widgets/base",
      "_view_module_version": "1.2.0",
      "_view_name": "StyleView",
      "bar_color": null,
      "description_width": "initial"
     }
    }
   }
  }
 },
 "nbformat": 4,
 "nbformat_minor": 4
}
